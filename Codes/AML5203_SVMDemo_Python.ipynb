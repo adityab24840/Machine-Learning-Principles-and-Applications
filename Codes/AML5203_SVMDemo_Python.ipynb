{
  "cells": [
    {
      "cell_type": "code",
      "execution_count": null,
      "metadata": {
        "id": "b_hN0a9Rem7K"
      },
      "outputs": [],
      "source": [
        "## Load libraries\n",
        "\n",
        "# Standard modules\n",
        "import pandas as pd\n",
        "import numpy as np\n",
        "import os\n",
        "import sys\n",
        "from scipy import stats\n",
        "\n",
        "# Data simulation module\n",
        "from sklearn.datasets import make_blobs\n",
        "from sklearn.datasets import make_circles\n",
        "from sklearn.datasets import make_classification\n",
        "\n",
        "# Classifier modules\n",
        "from sklearn.svm import LinearSVC\n",
        "from sklearn.svm import SVC\n",
        "from sklearn.tree import DecisionTreeClassifier\n",
        "from sklearn.ensemble import AdaBoostClassifier\n",
        "\n",
        "# Plotting modules\n",
        "import matplotlib.pyplot as plt\n",
        "import matplotlib.cm as cm\n",
        "%matplotlib inline\n",
        "import seaborn as sns\n",
        "sns.set()\n",
        "from mpl_toolkits import mplot3d"
      ]
    },
    {
      "cell_type": "code",
      "execution_count": null,
      "metadata": {
        "id": "Ixf5l3t1GZkD"
      },
      "outputs": [],
      "source": [
        "## Mount Google drive folder if running in Colab\n",
        "if('google.colab' in sys.modules):\n",
        "    from google.colab import drive\n",
        "    drive.mount('/content/drive', force_remount = True)\n",
        "    DIR = '/content/drive/MyDrive/Colab Notebooks/MAHE/MSIS Coursework/EvenSem2024MAHE/'\n",
        "    DATA_DIR = DIR + '/Data/'\n",
        "    os.chdir(DIR)\n",
        "else:\n",
        "    DATA_DIR = 'Data/'"
      ]
    },
    {
      "cell_type": "code",
      "source": [
        "# Calculating the directed distance of samples\n",
        "# from a hyperplane\n",
        "# Samples along columns\n"
      ],
      "metadata": {
        "id": "P1ogd_f-vvHI"
      },
      "execution_count": null,
      "outputs": []
    },
    {
      "cell_type": "code",
      "execution_count": null,
      "metadata": {
        "id": "54UWxb2-_QN1"
      },
      "outputs": [],
      "source": [
        "# Plotting a straight line x2 = m*x1+b the linear algebra way:\n",
        "# solve w^Tx+b = 0 and plot the resulting vectors' heads\n"
      ]
    },
    {
      "cell_type": "code",
      "execution_count": null,
      "metadata": {
        "id": "eqZPdWn19X4A"
      },
      "outputs": [],
      "source": [
        "# Simulate linearly separable data and plot\n"
      ]
    },
    {
      "cell_type": "code",
      "execution_count": null,
      "metadata": {
        "id": "I_11PBr1_qFu"
      },
      "outputs": [],
      "source": [
        "## Fit a linear support vector machine model (linear decision boundary)\n"
      ]
    },
    {
      "cell_type": "code",
      "execution_count": null,
      "metadata": {
        "id": "eNGC0kfGVNZC"
      },
      "outputs": [],
      "source": [
        "# Print the samples that are the support-vectors (special samples)\n"
      ]
    },
    {
      "cell_type": "code",
      "execution_count": null,
      "metadata": {
        "id": "hx8I69zAXK8k"
      },
      "outputs": [],
      "source": [
        "# Weights for the two classes\n",
        "\n",
        "# Bias or intercept of the decision boundary line\n",
        "\n",
        "# Decision boundary line's slope:\n"
      ]
    },
    {
      "cell_type": "code",
      "execution_count": null,
      "metadata": {
        "id": "1tyN0TXeDSuP"
      },
      "outputs": [],
      "source": [
        "# User-defined function to plot the SVC decision boundary with margins\n",
        "# for a two-dimensional SVC\n",
        "def plot_svc_decision_function(model, ax = None, plot_margin = True, plot_support = True):\n",
        "  if ax is None:\n",
        "    ax = plt.gca()\n",
        "\n",
        "  # Generate 2D grid of points with 1000 x 1000 points\n",
        "  x1, x2 = np.mgrid[np.min(X[:, 0]) - 0.5:np.max(X[:, 0]) + 0.5:1000j,\n",
        "                    np.min(X[:, 1]) - 0.5:np.max(X[:, 1]) + 0.5:1000j]\n",
        "\n",
        "  ax.scatter(X[:, 0], X[:, 1], c = y, s = 40, cmap = plt.cm.Spectral)\n",
        "  ax.set_xlim(x1.min(), x1.max())\n",
        "  ax.set_ylim(x2.min(), x2.max())\n",
        "  #plt.title(' ')\n",
        "\n",
        "  # Calculate category corresponding to each point on the grid\n",
        "  category = model.predict(np.vstack([x1.flatten(), x2.flatten()]).T).reshape(x1.shape)\n",
        "  ax.contourf(x1, x2, category, alpha = 0.3)\n",
        "\n",
        "  # Plot margin\n",
        "  if plot_margin:\n",
        "    # Calculate score corresponding to each point on grid\n",
        "    score = model.decision_function(np.vstack([x1.flatten(), x2.flatten()]).T).reshape(x1.shape)\n",
        "    ax.contour(x1, x2, score, colors = 'k',\n",
        "               levels = [-1, 0, 1],\n",
        "               linestyles = ['--', '-', '--'])\n",
        "\n",
        "  # Plot support vectors\n",
        "  if plot_support:\n",
        "    ax.scatter(model.support_vectors_[:, 0],\n",
        "               model.support_vectors_[:, 1],\n",
        "               s = 150, linewidth = 1, facecolors = 'none', edgecolors = 'k')"
      ]
    },
    {
      "cell_type": "code",
      "execution_count": null,
      "metadata": {
        "id": "87-GYyNQDzA4"
      },
      "outputs": [],
      "source": [
        "# Plot linear SVC decision boundary with margins\n"
      ]
    }
  ],
  "metadata": {
    "colab": {
      "provenance": []
    },
    "kernelspec": {
      "display_name": "Python 3",
      "language": "python",
      "name": "python3"
    },
    "language_info": {
      "codemirror_mode": {
        "name": "ipython",
        "version": 3
      },
      "file_extension": ".py",
      "mimetype": "text/x-python",
      "name": "python",
      "nbconvert_exporter": "python",
      "pygments_lexer": "ipython3",
      "version": "3.11.2"
    },
    "vscode": {
      "interpreter": {
        "hash": "854f9ff9f945bab8ba5d04e939504df285fc62eb45b7a687b185fca2375459b7"
      }
    }
  },
  "nbformat": 4,
  "nbformat_minor": 0
}